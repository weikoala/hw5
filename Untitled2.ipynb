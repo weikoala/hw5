{
  "nbformat": 4,
  "nbformat_minor": 0,
  "metadata": {
    "colab": {
      "provenance": []
    },
    "kernelspec": {
      "name": "python3",
      "display_name": "Python 3"
    },
    "language_info": {
      "name": "python"
    }
  },
  "cells": [
    {
      "cell_type": "code",
      "execution_count": 16,
      "metadata": {
        "colab": {
          "base_uri": "https://localhost:8080/"
        },
        "id": "8TOAcmTTDd6V",
        "outputId": "89902853-cc12-46ec-dcd7-8ac5cbb58cb7"
      },
      "outputs": [
        {
          "output_type": "stream",
          "name": "stdout",
          "text": [
            "\n",
            "您想查詢什麼？（藥方名稱/出典/處方/效能/適應症/退出查詢）：退出查詢\n",
            "感謝使用，再見！\n"
          ]
        }
      ],
      "source": [
        "prescription = {\n",
        "  '名稱':'抵當湯',\n",
        "  '出典':'傷寒論',\n",
        "  '處方':{\n",
        "    '水蛭':10,\n",
        "    '蝱蟲':1,\n",
        "    '桃仁':2,\n",
        "    '酒大黃':10\n",
        "},\n",
        "'效能':'下焦蓄血、少腹硬滿、經水不利',\n",
        "'適應症':'攻逐瘀血',\n",
        "}\n",
        "\n",
        "while True :\n",
        "  query = input(\"\\n您想查詢什麼？（藥方名稱/出典/處方/效能/適應症/退出查詢）：\")\n",
        "\n",
        "  if query == \"藥方名稱\":\n",
        "    print(f\"{prescription['名稱']}\")\n",
        "  elif query == \"出典\":\n",
        "    print(f\"{prescription['名稱']}的出典為:{prescription['出典']}\")\n",
        "  elif query == \"適應症\":\n",
        "    print(f\"{prescription['名稱']}的適應症有:\")\n",
        "    for sympton in prescription ['適應症']:\n",
        "      print(symptom)\n",
        "  elif query == \"處方\":\n",
        "    total_weight = sum(prescription['處方']).values()\n",
        "    print(f\"{prescription['名稱']}的處方為:\")\n",
        "    for medicine, weight in prescription['處方'].items():\n",
        "      print(f\"{medicine}:{weight}公克\")\n",
        "      print(f\"總克數為:{total_weight}公克\")\n",
        "  elif query == \"效能\":\n",
        "    print(f\"{prescription['名稱']}的效能是:{presciption['效能']}\")\n",
        "  elif query == \"退出查詢\":\n",
        "          print(\"感謝使用，再見！\")\n",
        "          break\n",
        "else:\n",
        "      print(\"輸入無效，請重新輸入。\")\n",
        "\n",
        "\n",
        "\n",
        "\n",
        ""
      ]
    }
  ]
}